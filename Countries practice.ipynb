{
 "cells": [
  {
   "cell_type": "code",
   "execution_count": 69,
   "id": "d69c02b0-8689-4c32-9f98-54a516e33100",
   "metadata": {},
   "outputs": [],
   "source": [
    "import requests\n",
    "from bs4 import BeautifulSoup\n",
    "import pandas as pd\n",
    "import json"
   ]
  },
  {
   "cell_type": "code",
   "execution_count": 71,
   "id": "9c08a69e-4469-417b-be27-1c53ee09b24e",
   "metadata": {},
   "outputs": [],
   "source": [
    "response = requests.get('https://www.scrapethissite.com/pages/simple/')"
   ]
  },
  {
   "cell_type": "code",
   "execution_count": 72,
   "id": "13a62662-b273-47c6-a8f1-fefb23ab583d",
   "metadata": {},
   "outputs": [],
   "source": [
    "html = response.content"
   ]
  },
  {
   "cell_type": "code",
   "execution_count": 73,
   "id": "3e4622f0-de27-43d3-a66e-d113914f055f",
   "metadata": {},
   "outputs": [],
   "source": [
    "soup = BeautifulSoup(html, 'html.parser')"
   ]
  },
  {
   "cell_type": "code",
   "execution_count": 77,
   "id": "51b3221a-ae38-4972-bfe8-29583965cdf4",
   "metadata": {},
   "outputs": [],
   "source": [
    "countries = soup.find_all('div', class_='col-md-4 country')"
   ]
  },
  {
   "cell_type": "code",
   "execution_count": 79,
   "id": "7925be73-e331-42bd-bf04-769c1dc1db80",
   "metadata": {},
   "outputs": [],
   "source": [
    "country_data = []"
   ]
  },
  {
   "cell_type": "code",
   "execution_count": 81,
   "id": "dde02679-62ff-4044-b044-047fee48951b",
   "metadata": {},
   "outputs": [],
   "source": [
    "for country in countries:\n",
    "    country_name = country.find('h3', class_='country-name').get_text(strip=True)\n",
    "    country_capital = country.find('span', class_='country-capital').get_text(strip=True)\n",
    "    country_population = country.find('span', class_='country-population').get_text(strip=True)\n",
    "    country_area = country.find('span', class_='country-area').get_text(strip=True)\n",
    "    \n",
    "    \n",
    "    country_data.append({\n",
    "        'country': country_name,\n",
    "        'capital': country_capital,\n",
    "        'population': country_population,\n",
    "        'area': country_area  \n",
    "    })\n"
   ]
  },
  {
   "cell_type": "code",
   "execution_count": 93,
   "id": "332fc350-6d71-4b2b-8426-70484b92c19a",
   "metadata": {},
   "outputs": [],
   "source": [
    "df = pd.DataFrame(country_data)"
   ]
  },
  {
   "cell_type": "code",
   "execution_count": 95,
   "id": "c6fd9ef9-f367-48f3-a0cc-bf21b093b15d",
   "metadata": {},
   "outputs": [
    {
     "data": {
      "text/html": [
       "<div>\n",
       "<style scoped>\n",
       "    .dataframe tbody tr th:only-of-type {\n",
       "        vertical-align: middle;\n",
       "    }\n",
       "\n",
       "    .dataframe tbody tr th {\n",
       "        vertical-align: top;\n",
       "    }\n",
       "\n",
       "    .dataframe thead th {\n",
       "        text-align: right;\n",
       "    }\n",
       "</style>\n",
       "<table border=\"1\" class=\"dataframe\">\n",
       "  <thead>\n",
       "    <tr style=\"text-align: right;\">\n",
       "      <th></th>\n",
       "      <th>country</th>\n",
       "      <th>capital</th>\n",
       "      <th>population</th>\n",
       "      <th>area</th>\n",
       "    </tr>\n",
       "  </thead>\n",
       "  <tbody>\n",
       "    <tr>\n",
       "      <th>0</th>\n",
       "      <td>Andorra</td>\n",
       "      <td>Andorra la Vella</td>\n",
       "      <td>84000</td>\n",
       "      <td>468.0</td>\n",
       "    </tr>\n",
       "    <tr>\n",
       "      <th>1</th>\n",
       "      <td>United Arab Emirates</td>\n",
       "      <td>Abu Dhabi</td>\n",
       "      <td>4975593</td>\n",
       "      <td>82880.0</td>\n",
       "    </tr>\n",
       "    <tr>\n",
       "      <th>2</th>\n",
       "      <td>Afghanistan</td>\n",
       "      <td>Kabul</td>\n",
       "      <td>29121286</td>\n",
       "      <td>647500.0</td>\n",
       "    </tr>\n",
       "    <tr>\n",
       "      <th>3</th>\n",
       "      <td>Antigua and Barbuda</td>\n",
       "      <td>St. John's</td>\n",
       "      <td>86754</td>\n",
       "      <td>443.0</td>\n",
       "    </tr>\n",
       "    <tr>\n",
       "      <th>4</th>\n",
       "      <td>Anguilla</td>\n",
       "      <td>The Valley</td>\n",
       "      <td>13254</td>\n",
       "      <td>102.0</td>\n",
       "    </tr>\n",
       "    <tr>\n",
       "      <th>...</th>\n",
       "      <td>...</td>\n",
       "      <td>...</td>\n",
       "      <td>...</td>\n",
       "      <td>...</td>\n",
       "    </tr>\n",
       "    <tr>\n",
       "      <th>245</th>\n",
       "      <td>Yemen</td>\n",
       "      <td>Sanaa</td>\n",
       "      <td>23495361</td>\n",
       "      <td>527970.0</td>\n",
       "    </tr>\n",
       "    <tr>\n",
       "      <th>246</th>\n",
       "      <td>Mayotte</td>\n",
       "      <td>Mamoudzou</td>\n",
       "      <td>159042</td>\n",
       "      <td>374.0</td>\n",
       "    </tr>\n",
       "    <tr>\n",
       "      <th>247</th>\n",
       "      <td>South Africa</td>\n",
       "      <td>Pretoria</td>\n",
       "      <td>49000000</td>\n",
       "      <td>1219912.0</td>\n",
       "    </tr>\n",
       "    <tr>\n",
       "      <th>248</th>\n",
       "      <td>Zambia</td>\n",
       "      <td>Lusaka</td>\n",
       "      <td>13460305</td>\n",
       "      <td>752614.0</td>\n",
       "    </tr>\n",
       "    <tr>\n",
       "      <th>249</th>\n",
       "      <td>Zimbabwe</td>\n",
       "      <td>Harare</td>\n",
       "      <td>11651858</td>\n",
       "      <td>390580.0</td>\n",
       "    </tr>\n",
       "  </tbody>\n",
       "</table>\n",
       "<p>250 rows × 4 columns</p>\n",
       "</div>"
      ],
      "text/plain": [
       "                  country           capital population       area\n",
       "0                 Andorra  Andorra la Vella      84000      468.0\n",
       "1    United Arab Emirates         Abu Dhabi    4975593    82880.0\n",
       "2             Afghanistan             Kabul   29121286   647500.0\n",
       "3     Antigua and Barbuda        St. John's      86754      443.0\n",
       "4                Anguilla        The Valley      13254      102.0\n",
       "..                    ...               ...        ...        ...\n",
       "245                 Yemen             Sanaa   23495361   527970.0\n",
       "246               Mayotte         Mamoudzou     159042      374.0\n",
       "247          South Africa          Pretoria   49000000  1219912.0\n",
       "248                Zambia            Lusaka   13460305   752614.0\n",
       "249              Zimbabwe            Harare   11651858   390580.0\n",
       "\n",
       "[250 rows x 4 columns]"
      ]
     },
     "execution_count": 95,
     "metadata": {},
     "output_type": "execute_result"
    }
   ],
   "source": [
    "df"
   ]
  },
  {
   "cell_type": "code",
   "execution_count": 97,
   "id": "2ed07830-dfe8-46d1-bc69-e141d0b1b119",
   "metadata": {},
   "outputs": [],
   "source": [
    "df.to_csv('Country_data.csv', index=0)"
   ]
  },
  {
   "cell_type": "code",
   "execution_count": null,
   "id": "26a64b13-4a30-4414-a57b-a33dcc2b3c42",
   "metadata": {},
   "outputs": [],
   "source": []
  },
  {
   "cell_type": "code",
   "execution_count": null,
   "id": "6c4401c4-5092-4794-b71e-932ddd22439f",
   "metadata": {},
   "outputs": [],
   "source": []
  },
  {
   "cell_type": "code",
   "execution_count": null,
   "id": "a82c7b12-3f74-4173-8d69-cc3fb86e4ae6",
   "metadata": {},
   "outputs": [],
   "source": []
  },
  {
   "cell_type": "code",
   "execution_count": null,
   "id": "a65571a0-185c-469f-8d0f-4b4bc4d24a0b",
   "metadata": {},
   "outputs": [],
   "source": []
  },
  {
   "cell_type": "code",
   "execution_count": null,
   "id": "84000c3c-4c49-4570-b919-4d71d943ef94",
   "metadata": {},
   "outputs": [],
   "source": []
  }
 ],
 "metadata": {
  "kernelspec": {
   "display_name": "Python 3 (ipykernel)",
   "language": "python",
   "name": "python3"
  },
  "language_info": {
   "codemirror_mode": {
    "name": "ipython",
    "version": 3
   },
   "file_extension": ".py",
   "mimetype": "text/x-python",
   "name": "python",
   "nbconvert_exporter": "python",
   "pygments_lexer": "ipython3",
   "version": "3.12.4"
  }
 },
 "nbformat": 4,
 "nbformat_minor": 5
}
